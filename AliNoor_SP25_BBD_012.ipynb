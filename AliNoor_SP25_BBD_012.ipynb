{
 "cells": [
  {
   "cell_type": "markdown",
   "id": "6d58085c-9141-40fa-a23a-290a03102dbf",
   "metadata": {},
   "source": [
    "Name: Ali Noor\n",
    "Roll no: SP25-BBD-012"
   ]
  },
  {
   "cell_type": "markdown",
   "id": "daa673f0-0666-4eac-ba40-08af31ed5579",
   "metadata": {},
   "source": [
    "#Question_1\n",
    "\n",
    "number = 12\n",
    "if number == 0:\n",
    "    print(\"The number Zero\")\n",
    "\n",
    "if number >= 1:\n",
    "    print(\"The number is positive\")\n",
    "\n",
    "else:\n",
    "    print(\"The number is Negative\")\n"
   ]
  },
  {
   "cell_type": "markdown",
   "id": "995ef2d2-79a4-48b2-a5ab-d8c9a3743352",
   "metadata": {},
   "source": [
    "#Question_2\n",
    "\n",
    "year = 2021\n",
    "if year%4 == 0:\n",
    "    print(\"Its a Leap year\")\n",
    "\n",
    "else:\n",
    "    print(\"Its not a Leap year\")"
   ]
  },
  {
   "cell_type": "markdown",
   "id": "995deac0-61f6-4b45-b30d-36f4c40e3a69",
   "metadata": {},
   "source": [
    "#Question_3\n",
    "\n",
    "x = int(input(\"X: \"))\n",
    "y = int(input(\"Y: \"))\n",
    "operator = input(\"Enter the operator: \")\n",
    "\n",
    "if operator == '+':\n",
    "    print(x+y)\n",
    "\n",
    "if operator == '-':\n",
    "    print(x-y)\n",
    "\n",
    "if operator == '*':\n",
    "    print(x*y)\n",
    "\n",
    "if operator == '/':\n",
    "    print(x/y)\n",
    "\n"
   ]
  },
  {
   "cell_type": "markdown",
   "id": "baf263e6-bb99-49cf-b378-083545771f3e",
   "metadata": {},
   "source": [
    "#Question_4\n",
    "\n",
    "marks = int(input(\"Enter Your Marks: \"))\n",
    "\n",
    "if marks >= 85:\n",
    "    print(\"Grade: A\")\n",
    "\n",
    "elif 70 <= marks <= 84:\n",
    "    print(\"Grade:B\")\n",
    "\n",
    "elif 50 <= marks <= 69:\n",
    "    print(\"Grade: C\")\n",
    "\n",
    "else:\n",
    "    print(\"Grade: F\")\n"
   ]
  },
  {
   "cell_type": "markdown",
   "id": "c9931e02-e089-4cff-8047-22aed8d0715d",
   "metadata": {},
   "source": [
    "#Question_5\n",
    "\n",
    "\n",
    "age = int(input(\"Enter your age: \"))\n",
    "income = float(input(\"Enter your annual income: \"))\n",
    "\n",
    "if age >= 21 and income > 25000:\n",
    "    print(\"Eligible for membership.\")\n",
    "else:\n",
    "    print(\"Not eligible.\")\n"
   ]
  },
  {
   "cell_type": "markdown",
   "id": "dcd76b68-0cfa-4f2a-bb6d-11a50cf4f861",
   "metadata": {},
   "source": [
    "#Question_6\n",
    "\n",
    "\n",
    "num = int(input(\"Enter a number: \"))\n",
    "\n",
    "if num % 3 == 0 and num % 5 == 0:\n",
    "    print(\"FizzBuzz\")\n",
    "elif num % 3 == 0:\n",
    "    print(\"Fizz\")\n",
    "elif num % 5 == 0:\n",
    "    print(\"Buzz\")\n",
    "else:\n",
    "    print(num)\n"
   ]
  },
  {
   "cell_type": "markdown",
   "id": "d490ef7d-4ef4-4f30-bdce-d8bcb5aa8e13",
   "metadata": {},
   "source": [
    "#Question_7\n",
    "\n",
    "\n",
    "char = input(\"Enter a single character: \")\n",
    "\n",
    "if len(char) != 1:\n",
    "    print(\"Please enter exactly one character.\")\n",
    "else:\n",
    "    if (char.lower() == 'a' or char.lower() == 'e' or \n",
    "        char.lower() == 'i' or char.lower() == 'o' or \n",
    "        char.lower() == 'u'):\n",
    "        print(\"It's a vowel.\")\n",
    "    elif char.isalpha():\n",
    "        print(\"It's a consonant.\")\n",
    "    elif char.isdigit():\n",
    "        print(\"It's a digit.\")\n"
   ]
  },
  {
   "cell_type": "markdown",
   "id": "f045b956-5187-42d9-ae45-18050a257f29",
   "metadata": {},
   "source": [
    "#Question_8\n",
    "\n",
    "\n",
    "day = input(\"Enter the current day name (e.g., Monday, Tuesday): \")\n",
    "\n",
    "day = day.lower()\n",
    "\n",
    "if day == \"saturday\" or day == \"sunday\":\n",
    "    print(\"Enjoy your weekend!\")\n",
    "elif day == \"monday\" or day == \"tuesday\" or day == \"wednesday\" or day == \"thursday\" or day == \"friday\":\n",
    "    print(\"Time to work!\")\n"
   ]
  },
  {
   "cell_type": "markdown",
   "id": "78bb6694-e53f-4722-b0bf-0e11bed73075",
   "metadata": {},
   "source": [
    "#Question_9\n",
    "\n",
    "\n",
    "years = int(input(\"Enter your years of service: \"))\n",
    "salary = float(input(\"Enter your current salary: \"))\n",
    "\n",
    "if years >= 10:\n",
    "    bonus = 0.20 * salary\n",
    "elif 5 <= years <= 9:\n",
    "    bonus = 0.10 * salary\n",
    "else:\n",
    "    bonus = 0.05 * salary\n",
    "\n",
    "print(\"Your bonus amount is: ${:.2f}\".format(bonus))\n"
   ]
  },
  {
   "cell_type": "markdown",
   "id": "ce954d77-cfd4-40b9-897f-28f75a04e69a",
   "metadata": {},
   "source": [
    "#Question_10\n",
    "\n",
    "\n",
    "num = int(input(\"Enter a number: \"))\n",
    "if num > 0:\n",
    "    print(\"The number is positive.\")\n",
    "    \n",
    "    if num % 2 == 0:\n",
    "        print(\"It is even.\")\n",
    "    else:\n",
    "        print(\"It is odd.\")\n",
    "\n",
    "elif num < 0:\n",
    "    print(\"The number is negative.\")\n",
    "else:\n",
    "    print(\"The number is zero.\")\n"
   ]
  },
  {
   "cell_type": "code",
   "execution_count": null,
   "id": "ab86b207-9741-4456-a5bf-c23d1583d05a",
   "metadata": {},
   "outputs": [],
   "source": []
  }
 ],
 "metadata": {
  "kernelspec": {
   "display_name": "Python 3 (ipykernel)",
   "language": "python",
   "name": "python3"
  },
  "language_info": {
   "codemirror_mode": {
    "name": "ipython",
    "version": 3
   },
   "file_extension": ".py",
   "mimetype": "text/x-python",
   "name": "python",
   "nbconvert_exporter": "python",
   "pygments_lexer": "ipython3",
   "version": "3.12.7"
  }
 },
 "nbformat": 4,
 "nbformat_minor": 5
}
